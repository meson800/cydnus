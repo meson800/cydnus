{
 "cells": [
  {
   "cell_type": "code",
   "execution_count": null,
   "metadata": {},
   "outputs": [],
   "source": [
    "import panel as pn\n",
    "import holoviews as hv\n",
    "from holoviews.operation.datashader import datashade\n",
    "import libfcs.events\n",
    "import libfcs.gates\n",
    "import libfcs.transforms\n",
    "import libfcs._libfcs_ext\n",
    "pn.extension()\n",
    "print(pn.config.comms)"
   ]
  },
  {
   "cell_type": "code",
   "execution_count": null,
   "metadata": {},
   "outputs": [],
   "source": [
    "events = libfcs.events.FlowEvents([\n",
    "    libfcs._libfcs_ext.FCS('../../libfcs/tests/fcs_files/attune.fcs')\n",
    "])"
   ]
  },
  {
   "cell_type": "code",
   "execution_count": null,
   "metadata": {},
   "outputs": [],
   "source": [
    "pn.Pane(datashade(\n",
    "            hv.Scatter(events.events, 'FSC-A', 'SSC-A')\n",
    "        ).opts(width=450, height=450, tools=['poly_draw']))"
   ]
  },
  {
   "cell_type": "code",
   "execution_count": null,
   "metadata": {},
   "outputs": [],
   "source": []
  }
 ],
 "metadata": {
  "kernelspec": {
   "display_name": "Python 3.9.4 ('env': venv)",
   "language": "python",
   "name": "python3"
  },
  "language_info": {
   "codemirror_mode": {
    "name": "ipython",
    "version": 3
   },
   "file_extension": ".py",
   "mimetype": "text/x-python",
   "name": "python",
   "nbconvert_exporter": "python",
   "pygments_lexer": "ipython3",
   "version": "3.9.4"
  },
  "vscode": {
   "interpreter": {
    "hash": "2b097ec80be1579f099a00f97de5bbcd4e65cbef700d5f9afeef6911ad8088c0"
   }
  }
 },
 "nbformat": 4,
 "nbformat_minor": 2
}
