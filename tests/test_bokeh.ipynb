{
 "cells": [
  {
   "cell_type": "code",
   "execution_count": null,
   "metadata": {},
   "outputs": [],
   "source": [
    "from fluent.NodeEditor import NodeEditor, Node\r\n",
    "from bokeh.core.properties import Dict, String\r\n",
    "import bokeh.io\r\n",
    "bokeh.io.output_notebook()\r\n",
    "test = NodeEditor(nodes={'test': Node(node_name='Test', uid='Foo', ports=[])})"
   ]
  },
  {
   "cell_type": "code",
   "execution_count": null,
   "metadata": {},
   "outputs": [],
   "source": [
    "print(test.nodes)\r\n",
    "bokeh.io.output_file('test.html')\r\n",
    "bokeh.io.show(test)"
   ]
  },
  {
   "cell_type": "code",
   "execution_count": null,
   "metadata": {},
   "outputs": [],
   "source": [
    "print(test.nodes['test'].__dict__)"
   ]
  },
  {
   "cell_type": "code",
   "execution_count": null,
   "metadata": {},
   "outputs": [],
   "source": []
  }
 ],
 "metadata": {
  "kernelspec": {
   "display_name": "Python 3.9.4 64-bit ('env': venv)",
   "name": "pythonjvsc74a57bd09b14220b156dae1087f1aacdb963f9878f3eefa27cacdcb0d1576c814ee0c898"
  },
  "language_info": {
   "codemirror_mode": {
    "name": "ipython",
    "version": 3
   },
   "file_extension": ".py",
   "mimetype": "text/x-python",
   "name": "python",
   "nbconvert_exporter": "python",
   "pygments_lexer": "ipython3",
   "version": "3.9.4"
  },
  "metadata": {
   "interpreter": {
    "hash": "9b14220b156dae1087f1aacdb963f9878f3eefa27cacdcb0d1576c814ee0c898"
   }
  }
 },
 "nbformat": 4,
 "nbformat_minor": 4
}
