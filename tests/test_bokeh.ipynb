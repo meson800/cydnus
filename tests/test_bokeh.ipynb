{
 "cells": [
  {
   "cell_type": "code",
   "execution_count": null,
   "metadata": {},
   "outputs": [],
   "source": [
    "from fluent.NodeEditor import NodeEditor, Node, Port\r\n",
    "from bokeh.core.properties import Dict, String\r\n",
    "import bokeh.io\r\n",
    "import bokeh.colors\r\n",
    "bokeh.io.output_notebook()"
   ]
  },
  {
   "cell_type": "code",
   "execution_count": null,
   "metadata": {},
   "outputs": [],
   "source": [
    "test = NodeEditor(nodes={\r\n",
    "    'test': Node(\r\n",
    "        node_name='Testing more and more and more', uid='Foo',\r\n",
    "        ports=[\r\n",
    "            Port(port_name='Some port name', is_input=False, datatype='style')\r\n",
    "        ]),\r\n",
    "    'test2': Node(\r\n",
    "        node_name='Another node!', uid='Bar',\r\n",
    "        ports=[\r\n",
    "            Port(port_name='Short port', is_input=True, datatype='events')\r\n",
    "\r\n",
    "        ]\r\n",
    "    )},\r\n",
    "                  port_colors={\r\n",
    "                      'scalar': bokeh.colors.RGB(161, 161, 161),\r\n",
    "                      'events': bokeh.colors.RGB(99, 199, 99),\r\n",
    "                      'string': bokeh.colors.RGB(99, 99, 199),\r\n",
    "                      'metadata': bokeh.colors.RGB(199, 199, 41),\r\n",
    "                      'style': bokeh.colors.RGB(229, 139, 86)\r\n",
    "                  })\r\n",
    "bokeh.io.output_file('test.html')\r\n",
    "bokeh.io.show(test)"
   ]
  },
  {
   "cell_type": "code",
   "execution_count": null,
   "metadata": {},
   "outputs": [],
   "source": [
    "print(test.nodes['test'].__dict__)"
   ]
  },
  {
   "cell_type": "code",
   "execution_count": null,
   "metadata": {},
   "outputs": [],
   "source": []
  }
 ],
 "metadata": {
  "interpreter": {
   "hash": "9b14220b156dae1087f1aacdb963f9878f3eefa27cacdcb0d1576c814ee0c898"
  },
  "kernelspec": {
   "display_name": "Python 3.9.4 64-bit ('env': venv)",
   "name": "python3"
  },
  "language_info": {
   "codemirror_mode": {
    "name": "ipython",
    "version": 3
   },
   "file_extension": ".py",
   "mimetype": "text/x-python",
   "name": "python",
   "nbconvert_exporter": "python",
   "pygments_lexer": "ipython3",
   "version": "3.9.4"
  },
  "metadata": {
   "interpreter": {
    "hash": "9b14220b156dae1087f1aacdb963f9878f3eefa27cacdcb0d1576c814ee0c898"
   }
  }
 },
 "nbformat": 4,
 "nbformat_minor": 4
}
