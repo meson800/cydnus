{
 "cells": [
  {
   "cell_type": "code",
   "execution_count": null,
   "metadata": {},
   "outputs": [],
   "source": [
    "#import panel as pn\n",
    "#pn.extension()\n",
    "import bokeh\n",
    "import panel as pn\n",
    "\n",
    "import cydnus\n",
    "import cydnus.PolygonGateTool\n",
    "\n",
    "import libfcs.events\n",
    "import libfcs.transforms\n",
    "cydnus.notebook_init(verbose=True)\n"
   ]
  },
  {
   "cell_type": "code",
   "execution_count": null,
   "metadata": {},
   "outputs": [],
   "source": [
    "def callback_py(attr, old, new):\n",
    "    print(f'{attr}, {old}, {new}')\n",
    "source = bokeh.models.ColumnDataSource(data=dict(x=[1.0, 2.0, 3.0], y=[2.0, 5.0, 2.0]))\n",
    "\n",
    "poly_source = bokeh.models.ColumnDataSource({\"xs\": [], \"ys\": []})\n",
    "\n",
    "plot = bokeh.plotting.figure(x_range=(0, 10), y_range=(0, 10))\n",
    "r1 = plot.patches(source=poly_source, line_width=1, alpha=0.4)\n",
    "pgate = cydnus.PolygonGateTool.PolygonGateTool(renderers=[r1], syncable=True)\n",
    "plot.add_tools(pgate)\n",
    "plot.title.text = \"Drag to draw on the plot\"\n",
    "plot.line('x', 'y', source=source)\n",
    "poly_source.on_change('data', callback_py)\n",
    "pn.panel(plot).servable()"
   ]
  },
  {
   "cell_type": "code",
   "execution_count": null,
   "metadata": {},
   "outputs": [],
   "source": [
    "poly_source.data"
   ]
  },
  {
   "cell_type": "code",
   "execution_count": null,
   "metadata": {},
   "outputs": [],
   "source": [
    "import panel as pn\n",
    "pn.extension()\n",
    "import holoviews as hv\n",
    "hv.extension('bokeh')"
   ]
  },
  {
   "cell_type": "code",
   "execution_count": null,
   "metadata": {},
   "outputs": [],
   "source": [
    "events = libfcs.events.FlowEvents([\n",
    "    libfcs._libfcs_ext.FCS('../../libfcs/tests/fcs_files/attune.fcs')\n",
    "])"
   ]
  },
  {
   "cell_type": "code",
   "execution_count": null,
   "metadata": {},
   "outputs": [],
   "source": [
    "pgate = cydnus.PolygonGateSelector(libfcs.transforms.LinearTransform('FSC-A'), libfcs.transforms.LinearTransform('SSC-A'), events=events)"
   ]
  },
  {
   "cell_type": "code",
   "execution_count": null,
   "metadata": {},
   "outputs": [],
   "source": [
    "#pn.Pane(pgate.view())\n",
    "pgate.view()"
   ]
  },
  {
   "cell_type": "code",
   "execution_count": null,
   "metadata": {},
   "outputs": [],
   "source": [
    "pgate.syncable"
   ]
  },
  {
   "cell_type": "code",
   "execution_count": null,
   "metadata": {},
   "outputs": [],
   "source": [
    "poly_source.data"
   ]
  }
 ],
 "metadata": {
  "kernelspec": {
   "display_name": "cydnus_venv",
   "language": "python",
   "name": "cydnus_venv"
  },
  "language_info": {
   "codemirror_mode": {
    "name": "ipython",
    "version": 3
   },
   "file_extension": ".py",
   "mimetype": "text/x-python",
   "name": "python",
   "nbconvert_exporter": "python",
   "pygments_lexer": "ipython3",
   "version": "3.9.4"
  }
 },
 "nbformat": 4,
 "nbformat_minor": 4
}
